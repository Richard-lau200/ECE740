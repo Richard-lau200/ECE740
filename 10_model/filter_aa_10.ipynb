{
 "cells": [
  {
   "cell_type": "code",
   "execution_count": 1,
   "id": "7047e3f1-124e-4aa5-949b-4f7170d23290",
   "metadata": {},
   "outputs": [],
   "source": [
    "import torch\n",
    "import torchvision\n",
    "import torchvision.transforms as transforms\n",
    "from torch.utils.data import DataLoader\n",
    "from autoattack import AutoAttack\n",
    "from resnet import *"
   ]
  },
  {
   "cell_type": "code",
   "execution_count": 2,
   "id": "34356c19-ea41-4426-bd21-ca90ea4ca6a6",
   "metadata": {},
   "outputs": [
    {
     "data": {
      "text/plain": [
       "ResNet(\n",
       "  (conv1): Conv2d(3, 64, kernel_size=(3, 3), stride=(1, 1), padding=(1, 1), bias=False)\n",
       "  (bn1): BatchNorm2d(64, eps=1e-05, momentum=0.1, affine=True, track_running_stats=True)\n",
       "  (layer1): Sequential(\n",
       "    (0): BasicBlock(\n",
       "      (conv1): Conv2d(64, 64, kernel_size=(3, 3), stride=(1, 1), padding=(1, 1), bias=False)\n",
       "      (bn1): BatchNorm2d(64, eps=1e-05, momentum=0.1, affine=True, track_running_stats=True)\n",
       "      (conv2): Conv2d(64, 64, kernel_size=(3, 3), stride=(1, 1), padding=(1, 1), bias=False)\n",
       "      (bn2): BatchNorm2d(64, eps=1e-05, momentum=0.1, affine=True, track_running_stats=True)\n",
       "      (shortcut): Sequential()\n",
       "    )\n",
       "    (1): BasicBlock(\n",
       "      (conv1): Conv2d(64, 64, kernel_size=(3, 3), stride=(1, 1), padding=(1, 1), bias=False)\n",
       "      (bn1): BatchNorm2d(64, eps=1e-05, momentum=0.1, affine=True, track_running_stats=True)\n",
       "      (conv2): Conv2d(64, 64, kernel_size=(3, 3), stride=(1, 1), padding=(1, 1), bias=False)\n",
       "      (bn2): BatchNorm2d(64, eps=1e-05, momentum=0.1, affine=True, track_running_stats=True)\n",
       "      (shortcut): Sequential()\n",
       "    )\n",
       "  )\n",
       "  (layer2): Sequential(\n",
       "    (0): BasicBlock(\n",
       "      (conv1): Conv2d(64, 128, kernel_size=(3, 3), stride=(2, 2), padding=(1, 1), bias=False)\n",
       "      (bn1): BatchNorm2d(128, eps=1e-05, momentum=0.1, affine=True, track_running_stats=True)\n",
       "      (conv2): Conv2d(128, 128, kernel_size=(3, 3), stride=(1, 1), padding=(1, 1), bias=False)\n",
       "      (bn2): BatchNorm2d(128, eps=1e-05, momentum=0.1, affine=True, track_running_stats=True)\n",
       "      (shortcut): Sequential(\n",
       "        (0): Conv2d(64, 128, kernel_size=(1, 1), stride=(2, 2), bias=False)\n",
       "        (1): BatchNorm2d(128, eps=1e-05, momentum=0.1, affine=True, track_running_stats=True)\n",
       "      )\n",
       "    )\n",
       "    (1): BasicBlock(\n",
       "      (conv1): Conv2d(128, 128, kernel_size=(3, 3), stride=(1, 1), padding=(1, 1), bias=False)\n",
       "      (bn1): BatchNorm2d(128, eps=1e-05, momentum=0.1, affine=True, track_running_stats=True)\n",
       "      (conv2): Conv2d(128, 128, kernel_size=(3, 3), stride=(1, 1), padding=(1, 1), bias=False)\n",
       "      (bn2): BatchNorm2d(128, eps=1e-05, momentum=0.1, affine=True, track_running_stats=True)\n",
       "      (shortcut): Sequential()\n",
       "    )\n",
       "  )\n",
       "  (layer3): Sequential(\n",
       "    (0): BasicBlock(\n",
       "      (conv1): Conv2d(128, 256, kernel_size=(3, 3), stride=(2, 2), padding=(1, 1), bias=False)\n",
       "      (bn1): BatchNorm2d(256, eps=1e-05, momentum=0.1, affine=True, track_running_stats=True)\n",
       "      (conv2): Conv2d(256, 256, kernel_size=(3, 3), stride=(1, 1), padding=(1, 1), bias=False)\n",
       "      (bn2): BatchNorm2d(256, eps=1e-05, momentum=0.1, affine=True, track_running_stats=True)\n",
       "      (shortcut): Sequential(\n",
       "        (0): Conv2d(128, 256, kernel_size=(1, 1), stride=(2, 2), bias=False)\n",
       "        (1): BatchNorm2d(256, eps=1e-05, momentum=0.1, affine=True, track_running_stats=True)\n",
       "      )\n",
       "    )\n",
       "    (1): BasicBlock(\n",
       "      (conv1): Conv2d(256, 256, kernel_size=(3, 3), stride=(1, 1), padding=(1, 1), bias=False)\n",
       "      (bn1): BatchNorm2d(256, eps=1e-05, momentum=0.1, affine=True, track_running_stats=True)\n",
       "      (conv2): Conv2d(256, 256, kernel_size=(3, 3), stride=(1, 1), padding=(1, 1), bias=False)\n",
       "      (bn2): BatchNorm2d(256, eps=1e-05, momentum=0.1, affine=True, track_running_stats=True)\n",
       "      (shortcut): Sequential()\n",
       "    )\n",
       "  )\n",
       "  (layer4): Sequential(\n",
       "    (0): BasicBlock(\n",
       "      (conv1): Conv2d(256, 512, kernel_size=(3, 3), stride=(2, 2), padding=(1, 1), bias=False)\n",
       "      (bn1): BatchNorm2d(512, eps=1e-05, momentum=0.1, affine=True, track_running_stats=True)\n",
       "      (conv2): Conv2d(512, 512, kernel_size=(3, 3), stride=(1, 1), padding=(1, 1), bias=False)\n",
       "      (bn2): BatchNorm2d(512, eps=1e-05, momentum=0.1, affine=True, track_running_stats=True)\n",
       "      (shortcut): Sequential(\n",
       "        (0): Conv2d(256, 512, kernel_size=(1, 1), stride=(2, 2), bias=False)\n",
       "        (1): BatchNorm2d(512, eps=1e-05, momentum=0.1, affine=True, track_running_stats=True)\n",
       "      )\n",
       "    )\n",
       "    (1): BasicBlock(\n",
       "      (conv1): Conv2d(512, 512, kernel_size=(3, 3), stride=(1, 1), padding=(1, 1), bias=False)\n",
       "      (bn1): BatchNorm2d(512, eps=1e-05, momentum=0.1, affine=True, track_running_stats=True)\n",
       "      (conv2): Conv2d(512, 512, kernel_size=(3, 3), stride=(1, 1), padding=(1, 1), bias=False)\n",
       "      (bn2): BatchNorm2d(512, eps=1e-05, momentum=0.1, affine=True, track_running_stats=True)\n",
       "      (shortcut): Sequential()\n",
       "    )\n",
       "  )\n",
       "  (linear): Linear(in_features=512, out_features=10, bias=True)\n",
       ")"
      ]
     },
     "execution_count": 2,
     "metadata": {},
     "output_type": "execute_result"
    }
   ],
   "source": [
    "# load model\n",
    "model = ResNet18()\n",
    "ckpt = torch.load(\"model_test.pt\")\n",
    "model.load_state_dict(ckpt)\n",
    "device = torch.device(\"cuda:0\" if torch.cuda.is_available() else \"cpu\")\n",
    "model.to(device)\n",
    "model.eval()"
   ]
  },
  {
   "cell_type": "markdown",
   "id": "d0d8239c-e1b9-4126-b972-06d5b7fe7796",
   "metadata": {
    "tags": []
   },
   "source": [
    "# Linf"
   ]
  },
  {
   "cell_type": "code",
   "execution_count": 3,
   "id": "0d59091a-e9d5-4886-b174-bb971a35d0b2",
   "metadata": {},
   "outputs": [
    {
     "name": "stdout",
     "output_type": "stream",
     "text": [
      "Files already downloaded and verified\n"
     ]
    }
   ],
   "source": [
    "# load data\n",
    "aa_data_linf = torch.load(\"aa_results/aa_cifar10_standard_1_5000_norm_Linf.pth\")\n",
    "# Load the CIFAR-10 test set\n",
    "transform = transforms.Compose(\n",
    "    [transforms.ToTensor(),\n",
    "     transforms.Normalize((0.5088964127604166, 0.48739301317401956, 0.44194221124387256),\n",
    "                          (0.2682515741720801, 0.2573637364478126, 0.2770957707973042))\n",
    "    ])\n",
    "testset = torchvision.datasets.CIFAR10(root='./data', train=False,\n",
    "                                       download=True, transform=transform)"
   ]
  },
  {
   "cell_type": "code",
   "execution_count": 4,
   "id": "87671706-d952-4250-ba48-26dd9d8f439b",
   "metadata": {},
   "outputs": [],
   "source": [
    "images = aa_data_linf['adv_complete'][0]\n",
    "labels = aa_data_linf['adv_complete'][1].tolist()\n",
    "aa_list_linf = []\n",
    "\n",
    "for i in range(len(images)):\n",
    "    sample = (images[i], labels[i])\n",
    "    aa_list_linf.append(sample)"
   ]
  },
  {
   "cell_type": "code",
   "execution_count": 8,
   "id": "3bf65047-3820-4dd1-b395-ddfff0a432fb",
   "metadata": {},
   "outputs": [],
   "source": [
    "# let the label of aa samples be 10\n",
    "real_aa_list_linf = []\n",
    "\n",
    "for i in range(len(aa_list_linf)):\n",
    "    if aa_list_linf[i][1] != testset[i][1]:\n",
    "        real_aa_sample = (images[i], 10)\n",
    "        real_aa_list_linf.append(real_aa_sample)"
   ]
  },
  {
   "cell_type": "code",
   "execution_count": 9,
   "id": "0d72db6a-572c-4f70-996d-ef873a240e41",
   "metadata": {},
   "outputs": [
    {
     "name": "stdout",
     "output_type": "stream",
     "text": [
      "(tensor([[[0.6098, 0.6362, 0.6164,  ..., 0.5686, 0.4870, 0.4863],\n",
      "         [0.5647, 0.5640, 0.5922,  ..., 0.5034, 0.4712, 0.4980],\n",
      "         [0.5875, 0.5669, 0.5930,  ..., 0.5638, 0.5404, 0.5020],\n",
      "         ...,\n",
      "         [0.2360, 0.1955, 0.1414,  ..., 0.1804, 0.0824, 0.1255],\n",
      "         [0.2078, 0.2197, 0.1686,  ..., 0.1333, 0.0824, 0.0471],\n",
      "         [0.1804, 0.2214, 0.2073,  ..., 0.1255, 0.1380, 0.1137]],\n",
      "\n",
      "        [[0.4509, 0.4649, 0.4235,  ..., 0.4029, 0.3255, 0.3647],\n",
      "         [0.4673, 0.4620, 0.4157,  ..., 0.3617, 0.3440, 0.3765],\n",
      "         [0.4627, 0.4588, 0.4355,  ..., 0.3562, 0.3698, 0.3804],\n",
      "         ...,\n",
      "         [0.4638, 0.4230, 0.3630,  ..., 0.4118, 0.2659, 0.3605],\n",
      "         [0.4235, 0.3686, 0.3252,  ..., 0.3529, 0.2902, 0.2824],\n",
      "         [0.4510, 0.3848, 0.3610,  ..., 0.3333, 0.3001, 0.2941]],\n",
      "\n",
      "        [[0.1631, 0.1529, 0.1686,  ..., 0.1725, 0.1098, 0.1122],\n",
      "         [0.1686, 0.1255, 0.1681,  ..., 0.1412, 0.1569, 0.1034],\n",
      "         [0.1580, 0.1012, 0.1490,  ..., 0.1084, 0.1227, 0.1022],\n",
      "         ...,\n",
      "         [0.6627, 0.5520, 0.5529,  ..., 0.6039, 0.4549, 0.5263],\n",
      "         [0.6729, 0.5497, 0.5490,  ..., 0.5176, 0.4627, 0.4510],\n",
      "         [0.6588, 0.6157, 0.5429,  ..., 0.5176, 0.4745, 0.4627]]]), 10)\n"
     ]
    }
   ],
   "source": [
    "print(real_aa_list_linf[0])"
   ]
  },
  {
   "cell_type": "code",
   "execution_count": 66,
   "id": "a620930e-b399-4867-b33a-694982787d60",
   "metadata": {},
   "outputs": [],
   "source": [
    "# save the results in dict\n",
    "torch.save({'adv_complete': real_aa_list_linf}, 'real_cifar10_Linf_5000.pth')"
   ]
  },
  {
   "cell_type": "markdown",
   "id": "d59e9506-dd61-46d2-9669-30f1de703681",
   "metadata": {
    "tags": []
   },
   "source": [
    "# L2"
   ]
  },
  {
   "cell_type": "code",
   "execution_count": 60,
   "id": "29c1d9cb-bf3b-4ca4-a959-5b2f4b517fb6",
   "metadata": {},
   "outputs": [],
   "source": [
    "# similar procedure with Linf\n",
    "\n",
    "aa_data_l2 = torch.load(\"aa_results/aa_cifar10_standard_1_5000_norm_L2.pth\")"
   ]
  },
  {
   "cell_type": "code",
   "execution_count": 68,
   "id": "b0e5c4fa-5263-4074-966d-4962a79186dc",
   "metadata": {},
   "outputs": [],
   "source": [
    "images = aa_data_l2['adv_complete'][0]\n",
    "labels = aa_data_l2['adv_complete'][1].tolist()\n",
    "aa_list_l2 = []\n",
    "\n",
    "for i in range(len(images)):\n",
    "    sample = (images[i], labels[i])\n",
    "    aa_list_l2.append(sample)"
   ]
  },
  {
   "cell_type": "code",
   "execution_count": 72,
   "id": "b6cd5a7a-c89f-4a8d-a121-97398271dfda",
   "metadata": {},
   "outputs": [],
   "source": [
    "real_aa_list_l2 = []\n",
    "\n",
    "for i in range(len(aa_list_l2)):\n",
    "    if aa_list_l2[i][1] != testset[i][1]:\n",
    "        real_aa_sample = (images[i], 10)\n",
    "        real_aa_list_l2.append(real_aa_sample)"
   ]
  },
  {
   "cell_type": "code",
   "execution_count": 73,
   "id": "645e5445-6eb2-4809-8ed6-1c3deeb3f6a8",
   "metadata": {},
   "outputs": [
    {
     "data": {
      "text/plain": [
       "657"
      ]
     },
     "execution_count": 73,
     "metadata": {},
     "output_type": "execute_result"
    }
   ],
   "source": [
    "len(real_aa_list_l2)"
   ]
  },
  {
   "cell_type": "code",
   "execution_count": 74,
   "id": "ad47dbff-b6f7-4ccc-a388-7dabb33608c6",
   "metadata": {},
   "outputs": [],
   "source": [
    "# save the results in dict \n",
    "torch.save({'adv_complete': real_aa_list_l2}, 'real_cifar10_L2_5000.pth')"
   ]
  },
  {
   "cell_type": "code",
   "execution_count": null,
   "id": "1172fed7-f54e-4721-959e-7d7c76120d44",
   "metadata": {},
   "outputs": [],
   "source": []
  }
 ],
 "metadata": {
  "kernelspec": {
   "display_name": "Python 3 (ipykernel)",
   "language": "python",
   "name": "python3"
  },
  "language_info": {
   "codemirror_mode": {
    "name": "ipython",
    "version": 3
   },
   "file_extension": ".py",
   "mimetype": "text/x-python",
   "name": "python",
   "nbconvert_exporter": "python",
   "pygments_lexer": "ipython3",
   "version": "3.9.7"
  }
 },
 "nbformat": 4,
 "nbformat_minor": 5
}
