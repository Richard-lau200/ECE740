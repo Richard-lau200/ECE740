{
 "cells": [
  {
   "cell_type": "code",
   "execution_count": 1,
   "id": "7047e3f1-124e-4aa5-949b-4f7170d23290",
   "metadata": {},
   "outputs": [],
   "source": [
    "import os\n",
    "import argparse\n",
    "from pathlib import Path\n",
    "import warnings\n",
    "from conf import settings\n",
    "from utils import get_test_dataloader\n",
    "\n",
    "import sys\n",
    "sys.path.insert(0,'..')\n",
    "\n",
    "import torch\n",
    "import torch.nn as nn\n",
    "import torchvision\n",
    "import torchvision.transforms as transforms\n",
    "\n",
    "from autoattack import AutoAttack\n",
    "from models.resnet import resnet18"
   ]
  },
  {
   "cell_type": "code",
   "execution_count": 2,
   "id": "34356c19-ea41-4426-bd21-ca90ea4ca6a6",
   "metadata": {},
   "outputs": [
    {
     "data": {
      "text/plain": [
       "ResNet(\n",
       "  (conv1): Sequential(\n",
       "    (0): Conv2d(3, 64, kernel_size=(3, 3), stride=(1, 1), padding=(1, 1), bias=False)\n",
       "    (1): BatchNorm2d(64, eps=1e-05, momentum=0.1, affine=True, track_running_stats=True)\n",
       "    (2): ReLU(inplace=True)\n",
       "  )\n",
       "  (conv2_x): Sequential(\n",
       "    (0): BasicBlock(\n",
       "      (residual_function): Sequential(\n",
       "        (0): Conv2d(64, 64, kernel_size=(3, 3), stride=(1, 1), padding=(1, 1), bias=False)\n",
       "        (1): BatchNorm2d(64, eps=1e-05, momentum=0.1, affine=True, track_running_stats=True)\n",
       "        (2): ReLU(inplace=True)\n",
       "        (3): Conv2d(64, 64, kernel_size=(3, 3), stride=(1, 1), padding=(1, 1), bias=False)\n",
       "        (4): BatchNorm2d(64, eps=1e-05, momentum=0.1, affine=True, track_running_stats=True)\n",
       "      )\n",
       "      (shortcut): Sequential()\n",
       "    )\n",
       "    (1): BasicBlock(\n",
       "      (residual_function): Sequential(\n",
       "        (0): Conv2d(64, 64, kernel_size=(3, 3), stride=(1, 1), padding=(1, 1), bias=False)\n",
       "        (1): BatchNorm2d(64, eps=1e-05, momentum=0.1, affine=True, track_running_stats=True)\n",
       "        (2): ReLU(inplace=True)\n",
       "        (3): Conv2d(64, 64, kernel_size=(3, 3), stride=(1, 1), padding=(1, 1), bias=False)\n",
       "        (4): BatchNorm2d(64, eps=1e-05, momentum=0.1, affine=True, track_running_stats=True)\n",
       "      )\n",
       "      (shortcut): Sequential()\n",
       "    )\n",
       "  )\n",
       "  (conv3_x): Sequential(\n",
       "    (0): BasicBlock(\n",
       "      (residual_function): Sequential(\n",
       "        (0): Conv2d(64, 128, kernel_size=(3, 3), stride=(2, 2), padding=(1, 1), bias=False)\n",
       "        (1): BatchNorm2d(128, eps=1e-05, momentum=0.1, affine=True, track_running_stats=True)\n",
       "        (2): ReLU(inplace=True)\n",
       "        (3): Conv2d(128, 128, kernel_size=(3, 3), stride=(1, 1), padding=(1, 1), bias=False)\n",
       "        (4): BatchNorm2d(128, eps=1e-05, momentum=0.1, affine=True, track_running_stats=True)\n",
       "      )\n",
       "      (shortcut): Sequential(\n",
       "        (0): Conv2d(64, 128, kernel_size=(1, 1), stride=(2, 2), bias=False)\n",
       "        (1): BatchNorm2d(128, eps=1e-05, momentum=0.1, affine=True, track_running_stats=True)\n",
       "      )\n",
       "    )\n",
       "    (1): BasicBlock(\n",
       "      (residual_function): Sequential(\n",
       "        (0): Conv2d(128, 128, kernel_size=(3, 3), stride=(1, 1), padding=(1, 1), bias=False)\n",
       "        (1): BatchNorm2d(128, eps=1e-05, momentum=0.1, affine=True, track_running_stats=True)\n",
       "        (2): ReLU(inplace=True)\n",
       "        (3): Conv2d(128, 128, kernel_size=(3, 3), stride=(1, 1), padding=(1, 1), bias=False)\n",
       "        (4): BatchNorm2d(128, eps=1e-05, momentum=0.1, affine=True, track_running_stats=True)\n",
       "      )\n",
       "      (shortcut): Sequential()\n",
       "    )\n",
       "  )\n",
       "  (conv4_x): Sequential(\n",
       "    (0): BasicBlock(\n",
       "      (residual_function): Sequential(\n",
       "        (0): Conv2d(128, 256, kernel_size=(3, 3), stride=(2, 2), padding=(1, 1), bias=False)\n",
       "        (1): BatchNorm2d(256, eps=1e-05, momentum=0.1, affine=True, track_running_stats=True)\n",
       "        (2): ReLU(inplace=True)\n",
       "        (3): Conv2d(256, 256, kernel_size=(3, 3), stride=(1, 1), padding=(1, 1), bias=False)\n",
       "        (4): BatchNorm2d(256, eps=1e-05, momentum=0.1, affine=True, track_running_stats=True)\n",
       "      )\n",
       "      (shortcut): Sequential(\n",
       "        (0): Conv2d(128, 256, kernel_size=(1, 1), stride=(2, 2), bias=False)\n",
       "        (1): BatchNorm2d(256, eps=1e-05, momentum=0.1, affine=True, track_running_stats=True)\n",
       "      )\n",
       "    )\n",
       "    (1): BasicBlock(\n",
       "      (residual_function): Sequential(\n",
       "        (0): Conv2d(256, 256, kernel_size=(3, 3), stride=(1, 1), padding=(1, 1), bias=False)\n",
       "        (1): BatchNorm2d(256, eps=1e-05, momentum=0.1, affine=True, track_running_stats=True)\n",
       "        (2): ReLU(inplace=True)\n",
       "        (3): Conv2d(256, 256, kernel_size=(3, 3), stride=(1, 1), padding=(1, 1), bias=False)\n",
       "        (4): BatchNorm2d(256, eps=1e-05, momentum=0.1, affine=True, track_running_stats=True)\n",
       "      )\n",
       "      (shortcut): Sequential()\n",
       "    )\n",
       "  )\n",
       "  (conv5_x): Sequential(\n",
       "    (0): BasicBlock(\n",
       "      (residual_function): Sequential(\n",
       "        (0): Conv2d(256, 512, kernel_size=(3, 3), stride=(2, 2), padding=(1, 1), bias=False)\n",
       "        (1): BatchNorm2d(512, eps=1e-05, momentum=0.1, affine=True, track_running_stats=True)\n",
       "        (2): ReLU(inplace=True)\n",
       "        (3): Conv2d(512, 512, kernel_size=(3, 3), stride=(1, 1), padding=(1, 1), bias=False)\n",
       "        (4): BatchNorm2d(512, eps=1e-05, momentum=0.1, affine=True, track_running_stats=True)\n",
       "      )\n",
       "      (shortcut): Sequential(\n",
       "        (0): Conv2d(256, 512, kernel_size=(1, 1), stride=(2, 2), bias=False)\n",
       "        (1): BatchNorm2d(512, eps=1e-05, momentum=0.1, affine=True, track_running_stats=True)\n",
       "      )\n",
       "    )\n",
       "    (1): BasicBlock(\n",
       "      (residual_function): Sequential(\n",
       "        (0): Conv2d(512, 512, kernel_size=(3, 3), stride=(1, 1), padding=(1, 1), bias=False)\n",
       "        (1): BatchNorm2d(512, eps=1e-05, momentum=0.1, affine=True, track_running_stats=True)\n",
       "        (2): ReLU(inplace=True)\n",
       "        (3): Conv2d(512, 512, kernel_size=(3, 3), stride=(1, 1), padding=(1, 1), bias=False)\n",
       "        (4): BatchNorm2d(512, eps=1e-05, momentum=0.1, affine=True, track_running_stats=True)\n",
       "      )\n",
       "      (shortcut): Sequential()\n",
       "    )\n",
       "  )\n",
       "  (avg_pool): AdaptiveAvgPool2d(output_size=(1, 1))\n",
       "  (fc): Linear(in_features=512, out_features=100, bias=True)\n",
       ")"
      ]
     },
     "execution_count": 2,
     "metadata": {},
     "output_type": "execute_result"
    }
   ],
   "source": [
    "# load model\n",
    "model = resnet18()\n",
    "ckpt = torch.load('18_on_100.pth')\n",
    "model.load_state_dict(ckpt)\n",
    "device = torch.device(\"cuda:0\" if torch.cuda.is_available() else \"cpu\")\n",
    "model.to(device)\n",
    "# Set the model to evaluation mode\n",
    "model.eval()"
   ]
  },
  {
   "cell_type": "markdown",
   "id": "c54512b0-189d-4156-ab97-de895c2a1932",
   "metadata": {},
   "source": [
    "# Linf"
   ]
  },
  {
   "cell_type": "code",
   "execution_count": 3,
   "id": "0d59091a-e9d5-4886-b174-bb971a35d0b2",
   "metadata": {},
   "outputs": [
    {
     "name": "stdout",
     "output_type": "stream",
     "text": [
      "Files already downloaded and verified\n"
     ]
    }
   ],
   "source": [
    "# load data\n",
    "aa_data_linf  = torch.load(\"aa_results/aa_cifar100_standard_1_5000_norm_Linf.pth\")\n",
    "\n",
    "# Define the transform for the test data\n",
    "transform = transforms.Compose(\n",
    "    [transforms.ToTensor(),\n",
    "     transforms.Normalize((0.5088964127604166, 0.48739301317401956, 0.44194221124387256),\n",
    "                          (0.2682515741720801, 0.2573637364478126, 0.2770957707973042))])\n",
    "# Load the CIFAR-100 test set\n",
    "testset = torchvision.datasets.CIFAR100(root='./data', train=False,\n",
    "                                       download=True, transform=transform)"
   ]
  },
  {
   "cell_type": "code",
   "execution_count": 12,
   "id": "3283fcff-811c-4e4d-b39c-1c567929a51b",
   "metadata": {},
   "outputs": [
    {
     "data": {
      "text/plain": [
       "Dataset CIFAR100\n",
       "    Number of datapoints: 10000\n",
       "    Root location: ./data\n",
       "    Split: Test\n",
       "    StandardTransform\n",
       "Transform: Compose(\n",
       "               ToTensor()\n",
       "               Normalize(mean=(0.5088964127604166, 0.48739301317401956, 0.44194221124387256), std=(0.2682515741720801, 0.2573637364478126, 0.2770957707973042))\n",
       "           )"
      ]
     },
     "execution_count": 12,
     "metadata": {},
     "output_type": "execute_result"
    }
   ],
   "source": [
    "testset"
   ]
  },
  {
   "cell_type": "code",
   "execution_count": 11,
   "id": "87671706-d952-4250-ba48-26dd9d8f439b",
   "metadata": {},
   "outputs": [],
   "source": [
    "images = aa_data_linf['adv_complete'][0]\n",
    "labels = aa_data_linf['adv_complete'][1].tolist()\n",
    "aa_list_linf = []\n",
    "\n",
    "for i in range(len(images)):\n",
    "    sample = (images[i], labels[i])\n",
    "    aa_list_linf.append(sample)\n"
   ]
  },
  {
   "cell_type": "code",
   "execution_count": 12,
   "id": "61b9a84b-cfcc-4cb8-98ee-dabbc8203de3",
   "metadata": {},
   "outputs": [],
   "source": [
    "# let the label of aa samples be 100\n",
    "real_aa_list_linf = []\n",
    "\n",
    "for i in range(len(aa_list_linf)):\n",
    "    if aa_list_linf[i][1] != testset[i][1]:\n",
    "        real_aa_sample = (images[i], 100)\n",
    "        real_aa_list_linf.append(real_aa_sample)"
   ]
  },
  {
   "cell_type": "code",
   "execution_count": 13,
   "id": "a9d8859b-e99a-4b2e-b978-066a680599bf",
   "metadata": {},
   "outputs": [
    {
     "data": {
      "text/plain": [
       "4808"
      ]
     },
     "execution_count": 13,
     "metadata": {},
     "output_type": "execute_result"
    }
   ],
   "source": [
    "len(real_aa_list_linf)"
   ]
  },
  {
   "cell_type": "code",
   "execution_count": 15,
   "id": "a6a5eca2-67eb-4188-8b1a-0d7d99e8afae",
   "metadata": {},
   "outputs": [],
   "source": [
    "torch.save({'adv_complete': real_aa_list_linf}, 'real_cifar100_Linf_5000.pth')"
   ]
  },
  {
   "cell_type": "code",
   "execution_count": 46,
   "id": "b04e0dd0-9f75-47e4-beec-7239e5ef3642",
   "metadata": {},
   "outputs": [],
   "source": [
    "# #combined_items\n",
    "# img = aa_list[1][0]\n",
    "# batched_image = img.unsqueeze(0)\n",
    "# l = aa_list[0][1]\n",
    "# batched_image = batched_image.to(device)\n",
    "\n",
    "# output = model(batched_image)\n",
    "# output\n",
    "# _, predicted = output.max(1)\n",
    "# predicted.eq(l)"
   ]
  },
  {
   "cell_type": "code",
   "execution_count": 35,
   "id": "1ac6bbd9-6d03-4f2c-b9c6-87f7d7be2aa5",
   "metadata": {},
   "outputs": [],
   "source": [
    "# def get_real_aa(model, aa_list):\n",
    "#     misclassified_items = [] \n",
    "#     for sample in aa_list:\n",
    "#         (image, label) = sample\n",
    "#         batched_image = image.unsqueeze(0)\n",
    "#         batched_image = batched_image.to(device)\n",
    "#         output = model(batched_image)\n",
    "#         _, predicted = output.max(1)\n",
    "#         if predicted.eq(label) == False:\n",
    "#             misclassified_items.append((batched_image.cpu(), 10))\n",
    "#     return tuple(misclassified_items)"
   ]
  },
  {
   "cell_type": "code",
   "execution_count": 36,
   "id": "3ee2600b-6130-4d81-9d58-017e988f6426",
   "metadata": {},
   "outputs": [],
   "source": [
    "# misclassified_items = get_real_aa(model, aa_list)"
   ]
  },
  {
   "cell_type": "code",
   "execution_count": 63,
   "id": "9fc1c4a7-67c3-44e0-a5dc-c708c49fc631",
   "metadata": {},
   "outputs": [],
   "source": [
    "# len(misclassified_items)"
   ]
  },
  {
   "cell_type": "markdown",
   "id": "efc7f1a5-0afd-44f8-b614-aac4e1c8a3a0",
   "metadata": {},
   "source": [
    "# L2"
   ]
  },
  {
   "cell_type": "code",
   "execution_count": 18,
   "id": "17d90d22-ffbe-4589-9ba8-e15de2df0c65",
   "metadata": {},
   "outputs": [],
   "source": [
    "# similar with Linf\n",
    "aa_data_l2 = torch.load(\"aa_results/aa_cifar100_standard_1_5000_norm_L2.pth\")"
   ]
  },
  {
   "cell_type": "code",
   "execution_count": 19,
   "id": "11573783-7de6-487a-b763-33ef70193e68",
   "metadata": {},
   "outputs": [],
   "source": [
    "images = aa_data_l2['adv_complete'][0]\n",
    "labels = aa_data_l2['adv_complete'][1].tolist()\n",
    "aa_list_l2 = []\n",
    "\n",
    "for i in range(len(images)):\n",
    "    sample = (images[i], labels[i])\n",
    "    aa_list_l2.append(sample)"
   ]
  },
  {
   "cell_type": "code",
   "execution_count": 20,
   "id": "279006c5-f050-4676-9e22-c694acbd60c8",
   "metadata": {},
   "outputs": [],
   "source": [
    "real_aa_list_l2 = []\n",
    "\n",
    "for i in range(len(aa_list_l2)):\n",
    "    if aa_list_l2[i][1] != testset[i][1]:\n",
    "        real_aa_sample = (images[i], 100)\n",
    "        real_aa_list_l2.append(real_aa_sample)"
   ]
  },
  {
   "cell_type": "code",
   "execution_count": 21,
   "id": "c2540a30-8800-446c-9758-e0669e10d2d3",
   "metadata": {},
   "outputs": [
    {
     "data": {
      "text/plain": [
       "3784"
      ]
     },
     "execution_count": 21,
     "metadata": {},
     "output_type": "execute_result"
    }
   ],
   "source": [
    "len(real_aa_list_l2)"
   ]
  },
  {
   "cell_type": "code",
   "execution_count": 23,
   "id": "80efa34a-4ed8-42f5-874e-20199701c8c4",
   "metadata": {},
   "outputs": [],
   "source": [
    "torch.save({'adv_complete': real_aa_list_l2}, 'real_cifar100_L2_5000.pth')"
   ]
  },
  {
   "cell_type": "code",
   "execution_count": null,
   "id": "81f855dd-9aed-4b7b-9154-c0231eebfc69",
   "metadata": {},
   "outputs": [],
   "source": []
  }
 ],
 "metadata": {
  "kernelspec": {
   "display_name": "Python 3 (ipykernel)",
   "language": "python",
   "name": "python3"
  },
  "language_info": {
   "codemirror_mode": {
    "name": "ipython",
    "version": 3
   },
   "file_extension": ".py",
   "mimetype": "text/x-python",
   "name": "python",
   "nbconvert_exporter": "python",
   "pygments_lexer": "ipython3",
   "version": "3.9.7"
  }
 },
 "nbformat": 4,
 "nbformat_minor": 5
}
